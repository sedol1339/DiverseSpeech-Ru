{
 "cells": [
  {
   "cell_type": "code",
   "execution_count": 1,
   "metadata": {},
   "outputs": [],
   "source": [
    "import os\n",
    "os.environ['HF_HOME'] = 'e:/.cache/huggingface'\n",
    "\n",
    "from pathlib import Path\n",
    "import shutil\n",
    "from dataclasses import dataclass\n",
    "\n",
    "from tqdm.auto import tqdm\n",
    "import gradio as gr\n",
    "import datasets\n",
    "from datasets import load_dataset"
   ]
  },
  {
   "cell_type": "code",
   "execution_count": 2,
   "metadata": {},
   "outputs": [
    {
     "data": {
      "application/vnd.jupyter.widget-view+json": {
       "model_id": "abee876c6b6444499d2bcdc4c47fcffd",
       "version_major": 2,
       "version_minor": 0
      },
      "text/plain": [
       "Resolving data files:   0%|          | 0/34042 [00:00<?, ?it/s]"
      ]
     },
     "metadata": {},
     "output_type": "display_data"
    }
   ],
   "source": [
    "dataset_dir = Path('datasets/yodas2_ru000_16k')\n",
    "yodas2 = load_dataset(str(dataset_dir), split='train')"
   ]
  },
  {
   "cell_type": "code",
   "execution_count": 3,
   "metadata": {},
   "outputs": [
    {
     "data": {
      "application/vnd.jupyter.widget-view+json": {
       "model_id": "a6f1c696945a4f8d9a8eec20a30d51f4",
       "version_major": 2,
       "version_minor": 0
      },
      "text/plain": [
       "  0%|          | 0/33542 [00:00<?, ?it/s]"
      ]
     },
     "metadata": {},
     "output_type": "display_data"
    },
    {
     "data": {
      "text/plain": [
       "33542"
      ]
     },
     "execution_count": 3,
     "metadata": {},
     "output_type": "execute_result"
    }
   ],
   "source": [
    "database = {\n",
    "    i: ' '.join(sample['utterances']['text'])\n",
    "    for i, sample in enumerate(tqdm(yodas2))\n",
    "}\n",
    "len(database)"
   ]
  },
  {
   "cell_type": "code",
   "execution_count": 4,
   "metadata": {},
   "outputs": [
    {
     "data": {
      "text/plain": [
       "155.20702"
      ]
     },
     "execution_count": 4,
     "metadata": {},
     "output_type": "execute_result"
    }
   ],
   "source": [
    "sum(len(x) for x in database.values()) / 10**6"
   ]
  },
  {
   "cell_type": "code",
   "execution_count": null,
   "metadata": {},
   "outputs": [],
   "source": [
    "def find(database: dict[int | str, str], query: str | list[str], max_count: int | None = None) -> list[str]:\n",
    "    if isinstance(query, str):\n",
    "        query = [query]\n",
    "    query = [q.strip().lower().replace('ё', 'е') for q in query]\n",
    "    found_ids = []\n",
    "    for id, text in database.items():\n",
    "        if max_count is not None and len(found_ids) >= max_count:\n",
    "            break\n",
    "        text = text.lower()\n",
    "        if all([(q in text if not q.startswith('-') else q not in text) for q in query]):\n",
    "            found_ids.append(id)\n",
    "    return found_ids"
   ]
  },
  {
   "cell_type": "code",
   "execution_count": null,
   "metadata": {},
   "outputs": [],
   "source": [
    "query = ['подойдем к']\n",
    "\n",
    "output_dir = Path('datasets/yodas_found')\n",
    "\n",
    "max_found = 9999\n",
    "max_written = 100\n",
    "\n",
    "found_ids = find(database, query, max_count=max_found)\n",
    "print(f'Found {len(found_ids)} results.')\n",
    "\n",
    "shutil.rmtree(output_dir, ignore_errors=True)\n",
    "output_dir.mkdir(parents=True, exist_ok=True)\n",
    "\n",
    "for id in found_ids[:max_written]:\n",
    "    sample = yodas2[id]\n",
    "    youtube_id = sample['video_id']\n",
    "    rel_audio_path = Path(sample['audio']['path'])\n",
    "    shutil.copy(dataset_dir / rel_audio_path, output_dir / rel_audio_path.name)\n",
    "\n",
    "    text = ' '.join(sample['utterances']['text'])\n",
    "    sep = '================================'\n",
    "    print(f'\\n{sep}\\n{youtube_id}\\n{sep}\\n{text[:2000]}')"
   ]
  },
  {
   "cell_type": "code",
   "execution_count": null,
   "metadata": {},
   "outputs": [],
   "source": []
  },
  {
   "cell_type": "code",
   "execution_count": null,
   "metadata": {},
   "outputs": [],
   "source": [
    "print(article_ar)"
   ]
  },
  {
   "cell_type": "code",
   "execution_count": null,
   "metadata": {},
   "outputs": [],
   "source": [
    "text = 'Hello everyone, you are on Seoquick channel, my name is Nikolai Shmichkov, and I am Ulitovsky Anatoly, and today we will answer the age-old question how to calculate the cost of promoting your site? I will briefly talk about the schemes, Anatoly will tell us about his methods, and we will approach the general view. I am starting today, and so I want to share a simple system. I remind you that the cost of SEO promotion is primarily composed of three components, the first component, of course, is the salary of seamstresses. You must pay for the work, of course, those who advise you, those who help you, those who give you strategies, give you plans. That is the same work that is in our interest. Anyone who is engaged in SEO, be it your staff member, be it you hired a freelance'\n",
    "print(text)"
   ]
  },
  {
   "cell_type": "code",
   "execution_count": null,
   "metadata": {},
   "outputs": [],
   "source": [
    "from transformers import T5ForConditionalGeneration, T5Tokenizer\n",
    "\n",
    "device = 'cuda' #or 'cpu' for translate on cpu\n",
    "\n",
    "model_name = 'utrobinmv/t5_summary_en_ru_zh_base_2048'\n",
    "model = T5ForConditionalGeneration.from_pretrained(model_name)\n",
    "model.eval()\n",
    "model.to(device)\n",
    "tokenizer = T5Tokenizer.from_pretrained(model_name)\n",
    "\n",
    "text = \"\"\"мы заходим в парк Политехнического университета. Водонапорная башня, сейчас проходим мимо неё Санкт-Петербургский Политехнический университет был основан 19 февраля 1899 года в соответствии с поручением министр финансов Российской Империи Витте. Историю и славу Политехнического университета в течение более 100 лет создавали люди, которые в нем преподавали и учились. Университет выпустил ряд выдающихся ученых: академики Абрам Иоффе, Игорь Курчатов, лауреат нобелевской премии Николай Семенов, Жорес Алфёров и Петр Капица. В 1918 году работа института была приостановлена, после Октябрьской революции многие преподаватели покинули Санкт-Петербург и Россию, но несмотря на это в марте 1919 года был создан первый в мировой истории физико-механический факультет для подготовки инженеров физиков-исследователей. В годы Великой Отечественной войны институт понес огромные людские потери, на фронт ушли более половины студентов, преподавателей и сотрудников университета. В 1967 году в парке Политехнического университета был установлен памятник погибшим \"политехникам\", но самое интересное что лучший в мире массовый средний танк времен Второй Мировой войны, всем нам известный танк Т-34 был создан выпускником Политехнического университета- Михаилом Ильичом Кошкиным. \"ребята поменьше сложностей, делайте так, чтобы машина была доступна любому механику\"- Михаил Ильич Кошкин, \"политехник\". Экипаж: 4 человека; боевая масса 30,9 тонн; длина 6,62 метра ; ширина 3 метра; высота 2,52; количество пушек 1; калибра 76 миллиметров; количество пулеметов 2 ; калибр 7,62 ; броня лобовая 45 миллиметров; броня бортовая 45 миллиметров; двигатель дизельный 450 лошадиных сил; максимальная скорость 51 камер час; запас хода 300 километров -Знаете, что зжесь упокоился Григорий Распутин? -Сожгли, да? -Да, вот здесь в этой котельне. -да да я что-то такое слышала. Попытались сначала по пути сжечь не получилось до конца вот сюда привезли останки Распутина похоронили 21 декабря 1916 года на территории царского сел\n",
    "\"\"\"\n",
    "\n",
    "inputs = tokenizer('summary brief: ' + text, return_tensors=\"pt\")\n",
    "tokenizer.batch_decode(model.generate(**inputs.to(device)), skip_special_tokens=True)"
   ]
  },
  {
   "cell_type": "code",
   "execution_count": null,
   "metadata": {},
   "outputs": [],
   "source": []
  }
 ],
 "metadata": {
  "kernelspec": {
   "display_name": ".venv",
   "language": "python",
   "name": "python3"
  },
  "language_info": {
   "codemirror_mode": {
    "name": "ipython",
    "version": 3
   },
   "file_extension": ".py",
   "mimetype": "text/x-python",
   "name": "python",
   "nbconvert_exporter": "python",
   "pygments_lexer": "ipython3",
   "version": "3.12.8"
  }
 },
 "nbformat": 4,
 "nbformat_minor": 2
}
