{
 "cells": [
  {
   "cell_type": "code",
   "execution_count": 1,
   "metadata": {},
   "outputs": [],
   "source": [
    "import os\n",
    "os.environ['HF_HOME'] = 'e:/.cache/huggingface'\n",
    "\n",
    "from pathlib import Path\n",
    "import shutil\n",
    "from dataclasses import dataclass\n",
    "\n",
    "from tqdm.auto import tqdm\n",
    "import gradio as gr\n",
    "import datasets\n",
    "from datasets import load_dataset\n",
    "\n",
    "sample_text = Path('datasets/sample_text.txt').read_text()"
   ]
  },
  {
   "cell_type": "code",
   "execution_count": null,
   "metadata": {},
   "outputs": [],
   "source": [
    "from punctuators.models import PunctCapSegModelONNX\n",
    "\n",
    "m: PunctCapSegModelONNX = PunctCapSegModelONNX.from_pretrained(\n",
    "    '1-800-BAD-CODE/xlm-roberta_punctuation_fullstop_truecase',\n",
    ")\n",
    "\n",
    "punct_text_sentences = m.infer(texts=[sample_text], apply_sbd=True)[0]\n",
    "print(\n",
    "    len(punct_text_sentences),\n",
    "    len(' '.join(punct_text_sentences)),\n",
    "    max([len(s) for s in punct_text_sentences])\n",
    ")\n",
    "\n",
    "Path('datasets/punct_text_sentences.txt').write_text('\\n'.join(punct_text_sentences))"
   ]
  },
  {
   "cell_type": "code",
   "execution_count": 3,
   "metadata": {},
   "outputs": [],
   "source": [
    "punct_text_sentences = Path('datasets/punct_text_sentences.txt').read_text().split('\\n')"
   ]
  },
  {
   "cell_type": "code",
   "execution_count": 1,
   "metadata": {},
   "outputs": [
    {
     "ename": "",
     "evalue": "",
     "output_type": "error",
     "traceback": [
      "\u001b[1;31mThe Kernel crashed while executing code in the current cell or a previous cell. \n",
      "\u001b[1;31mPlease review the code in the cell(s) to identify a possible cause of the failure. \n",
      "\u001b[1;31mClick <a href='https://aka.ms/vscodeJupyterKernelCrash'>here</a> for more info. \n",
      "\u001b[1;31mView Jupyter <a href='command:jupyter.viewOutput'>log</a> for further details."
     ]
    }
   ],
   "source": [
    "from transformers import MBartForConditionalGeneration, MBart50TokenizerFast\n",
    "\n",
    "model = MBartForConditionalGeneration.from_pretrained('facebook/mbart-large-50-many-to-many-mmt') # .cuda()\n",
    "tokenizer = MBart50TokenizerFast.from_pretrained('facebook/mbart-large-50-many-to-many-mmt')"
   ]
  },
  {
   "cell_type": "code",
   "execution_count": 15,
   "metadata": {},
   "outputs": [
    {
     "name": "stdout",
     "output_type": "stream",
     "text": [
      "12 42995 3829\n"
     ]
    }
   ],
   "source": [
    "chunks = ['']\n",
    "for sentence in punct_text_sentences:\n",
    "    new_text = chunks[-1] + ' ' + sentence\n",
    "    if len(tokenizer(new_text)['input_ids']) < 1024:\n",
    "        chunks[-1] = new_text\n",
    "    else:\n",
    "        chunks.append(sentence)\n",
    "print(\n",
    "    len(chunks),\n",
    "    len(' '.join(chunks)),\n",
    "    max([len(s) for s in chunks])\n",
    ")"
   ]
  },
  {
   "cell_type": "code",
   "execution_count": null,
   "metadata": {},
   "outputs": [],
   "source": [
    "tokenizer.src_lang = 'ru_RU'\n",
    "generated_tokens = model.generate(\n",
    "    **tokenizer(' '.join(punct_text_sentences), return_tensors='pt'),\n",
    "    forced_bos_token_id=tokenizer.lang_code_to_id[\"en_XX\"],\n",
    "    max_new_tokens=99999,\n",
    ")\n",
    "print(tokenizer.batch_decode(generated_tokens, skip_special_tokens=True))"
   ]
  },
  {
   "cell_type": "code",
   "execution_count": 14,
   "metadata": {},
   "outputs": [
    {
     "data": {
      "text/plain": [
       "[250021, 10, 10846, 2242, 420, 28, 2875, 1592, 2]"
      ]
     },
     "execution_count": 14,
     "metadata": {},
     "output_type": "execute_result"
    }
   ],
   "source": [
    "tokenizer('a fewfef efer fer ')['input_ids']"
   ]
  },
  {
   "cell_type": "code",
   "execution_count": null,
   "metadata": {},
   "outputs": [],
   "source": []
  }
 ],
 "metadata": {
  "kernelspec": {
   "display_name": ".venv",
   "language": "python",
   "name": "python3"
  },
  "language_info": {
   "codemirror_mode": {
    "name": "ipython",
    "version": 3
   },
   "file_extension": ".py",
   "mimetype": "text/x-python",
   "name": "python",
   "nbconvert_exporter": "python",
   "pygments_lexer": "ipython3",
   "version": "3.12.8"
  }
 },
 "nbformat": 4,
 "nbformat_minor": 2
}
