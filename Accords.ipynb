{
 "cells": [
  {
   "cell_type": "code",
   "execution_count": 14,
   "metadata": {},
   "outputs": [
    {
     "name": "stdout",
     "output_type": "stream",
     "text": [
      "1 - ['Em', 'Am', 'C ', 'E ', 'G ', 'C ', 'Am', 'D ', 'C ', 'Dm'] \n",
      "\n",
      "2 - ['Em', 'B ', 'E ', 'B ', 'D ', 'C ', 'A ', 'Dm', 'B ', 'Am'] \n",
      "\n",
      "3 - ['E ', 'C ', 'G ', 'Am', 'D ', 'A ', 'B ', 'D ', 'G ', 'A '] \n",
      "\n",
      "4 - ['C ', 'B ', 'A ', 'E ', 'Em', 'Dm', 'Em', 'Am', 'D ', 'B '] \n",
      "\n",
      "5 - ['A ', 'E ', 'B7', 'G ', 'Em', 'E ', 'Em', 'B7', 'C ', 'E '] \n",
      "\n",
      "6 - ['C ', 'Em', 'C ', 'Dm', 'D ', 'Em', 'B ', 'G ', 'Dm', 'B7'] \n",
      "\n",
      "7 - ['G ', 'Dm', 'C ', 'E ', 'B7', 'B ', 'D ', 'B ', 'B7', 'G '] \n",
      "\n",
      "8 - ['D ', 'Em', 'Dm', 'D ', 'E ', 'Dm', 'E ', 'G ', 'Am', 'E '] \n",
      "\n",
      "9 - ['G ', 'C ', 'Dm', 'Em', 'B ', 'A ', 'E ', 'G ', 'Am', 'A '] \n",
      "\n",
      "10 - ['Dm', 'G ', 'Dm', 'G ', 'Am', 'G ', 'B7', 'C ', 'D ', 'A '] \n",
      "\n"
     ]
    }
   ],
   "source": [
    "import numpy as np\n",
    "from itertools import groupby\n",
    "\n",
    "accords = ['A ', 'Am', 'E ', 'Em', 'C ', 'D ', 'Dm', 'G ', 'B ', 'B7']\n",
    "\n",
    "seq = np.random.choice(accords, size=150, replace=True).tolist()\n",
    "seq = [key for key, _group in groupby(seq)][:100]\n",
    "\n",
    "for i in range(10):\n",
    "    print(i+1, '-', seq[i*10:(i+1)*10], '\\n')"
   ]
  },
  {
   "cell_type": "code",
   "execution_count": null,
   "metadata": {},
   "outputs": [],
   "source": []
  }
 ],
 "metadata": {
  "kernelspec": {
   "display_name": ".venv",
   "language": "python",
   "name": "python3"
  },
  "language_info": {
   "codemirror_mode": {
    "name": "ipython",
    "version": 3
   },
   "file_extension": ".py",
   "mimetype": "text/x-python",
   "name": "python",
   "nbconvert_exporter": "python",
   "pygments_lexer": "ipython3",
   "version": "3.12.8"
  }
 },
 "nbformat": 4,
 "nbformat_minor": 2
}
