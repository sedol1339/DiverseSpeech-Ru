{
 "cells": [
  {
   "cell_type": "code",
   "execution_count": 1,
   "metadata": {},
   "outputs": [],
   "source": [
    "import pandas as pd\n",
    "from pathlib import Path\n",
    "\n",
    "import utils"
   ]
  },
  {
   "cell_type": "code",
   "execution_count": 2,
   "metadata": {},
   "outputs": [],
   "source": [
    "df = pd.read_csv('urls.csv')"
   ]
  },
  {
   "cell_type": "code",
   "execution_count": null,
   "metadata": {},
   "outputs": [],
   "source": [
    "for i, row in df.iterrows():  # downloading\n",
    "    print(i)\n",
    "    full_path = Path(f'audio_full/{utils.extract_youtube_code(row.url)}.wav')\n",
    "    trim_path = Path(f'audio/{utils.extract_youtube_code(row.url)}.wav')\n",
    "\n",
    "    if not full_path.is_file() and not trim_path.is_file():\n",
    "        utils.download_youtube_audio(row.url, full_path, keep_video=False)"
   ]
  },
  {
   "cell_type": "code",
   "execution_count": null,
   "metadata": {},
   "outputs": [],
   "source": [
    "for i, row in df.iterrows():  # trimming\n",
    "    print(i)\n",
    "    full_path = Path(f'audio_full/{utils.extract_youtube_code(row.url)}.wav')\n",
    "    trim_path = Path(f'audio/{utils.extract_youtube_code(row.url)}.wav')\n",
    "\n",
    "    if full_path.is_file() and not trim_path.is_file():\n",
    "        print(full_path)\n",
    "        utils.Audio.load(full_path).trim(utils.parse_time(row.start), utils.parse_time(row.end) + 30).save(trim_path)\n",
    "        full_path.unlink()"
   ]
  },
  {
   "cell_type": "code",
   "execution_count": null,
   "metadata": {},
   "outputs": [],
   "source": []
  }
 ],
 "metadata": {
  "kernelspec": {
   "display_name": "venv",
   "language": "python",
   "name": "python3"
  },
  "language_info": {
   "codemirror_mode": {
    "name": "ipython",
    "version": 3
   },
   "file_extension": ".py",
   "mimetype": "text/x-python",
   "name": "python",
   "nbconvert_exporter": "python",
   "pygments_lexer": "ipython3",
   "version": "3.10.12"
  }
 },
 "nbformat": 4,
 "nbformat_minor": 2
}
