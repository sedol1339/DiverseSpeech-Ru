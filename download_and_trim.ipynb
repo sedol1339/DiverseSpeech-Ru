{
 "cells": [
  {
   "cell_type": "code",
   "execution_count": 2,
   "metadata": {},
   "outputs": [],
   "source": [
    "import pandas as pd\n",
    "from pathlib import Path\n",
    "\n",
    "import utils"
   ]
  },
  {
   "cell_type": "code",
   "execution_count": 4,
   "metadata": {},
   "outputs": [],
   "source": [
    "df = pd.read_csv('urls_old.csv')"
   ]
  },
  {
   "cell_type": "code",
   "execution_count": null,
   "metadata": {},
   "outputs": [],
   "source": [
    "for i, row in df.iterrows():  # downloading\n",
    "    print(i)\n",
    "    full_path = Path(f'audio_full/{utils.extract_youtube_code(row.url)}.wav')\n",
    "    trim_path = Path(f'audio/{utils.extract_youtube_code(row.url)}.wav')\n",
    "\n",
    "    if not full_path.is_file() and not trim_path.is_file():\n",
    "        utils.download_youtube_audio(row.url, full_path, keep_video=False)"
   ]
  },
  {
   "cell_type": "code",
   "execution_count": null,
   "metadata": {},
   "outputs": [],
   "source": [
    "for i, row in df.iterrows():  # trimming\n",
    "    print(i)\n",
    "    full_path = Path(f'audio_full/{utils.extract_youtube_code(row.url)}.wav')\n",
    "    trim_path = Path(f'audio/{utils.extract_youtube_code(row.url)}.wav')\n",
    "\n",
    "    if full_path.is_file() and not trim_path.is_file():\n",
    "        print(full_path)\n",
    "        utils.Audio.load(full_path).trim(utils.parse_time(row.start), utils.parse_time(row.end) + 30).save(trim_path)\n",
    "        full_path.unlink()"
   ]
  },
  {
   "cell_type": "code",
   "execution_count": 26,
   "metadata": {},
   "outputs": [
    {
     "name": "stderr",
     "output_type": "stream",
     "text": [
      "100%|██████████| 48/48 [00:00<00:00, 155.64it/s]"
     ]
    },
    {
     "name": "stdout",
     "output_type": "stream",
     "text": [
      "audio/cEz8pMOnQAs.wav does not exist\n"
     ]
    },
    {
     "name": "stderr",
     "output_type": "stream",
     "text": [
      "\n"
     ]
    }
   ],
   "source": [
    "import librosa\n",
    "from tqdm.auto import tqdm\n",
    "\n",
    "data = []\n",
    "\n",
    "for i, row in tqdm(list(df.iterrows())):\n",
    "    name = row.url.split('=')[-1]\n",
    "    srt_path = Path(f'data_old/{name}.srt')\n",
    "    audio_path = Path(f'audio/{name}.wav')\n",
    "    if srt_path.is_file():\n",
    "        if not audio_path.is_file():\n",
    "            print(audio_path, 'does not exist')\n",
    "            continue\n",
    "        waveform, samling_rate = librosa.load(audio_path)\n",
    "        data.append({\n",
    "            'video_url': row.url,\n",
    "            'video_segment_start_sec': row.start,\n",
    "            'video_segment_end_sec': row.end + 30,\n",
    "            'srt_transcription': srt_path.read_text(),\n",
    "            'audio': {\n",
    "                'array': waveform,\n",
    "                'samling_rate': samling_rate,\n",
    "            }\n",
    "        })"
   ]
  },
  {
   "cell_type": "code",
   "execution_count": 31,
   "metadata": {},
   "outputs": [
    {
     "data": {
      "text/plain": [
       "Dataset({\n",
       "    features: ['video_url', 'video_segment_start_sec', 'video_segment_end_sec', 'srt_transcription', 'audio'],\n",
       "    num_rows: 17\n",
       "})"
      ]
     },
     "execution_count": 31,
     "metadata": {},
     "output_type": "execute_result"
    }
   ],
   "source": [
    "from datasets import Dataset\n",
    "\n",
    "dataset = Dataset.from_list(data)\n",
    "dataset"
   ]
  },
  {
   "cell_type": "code",
   "execution_count": 33,
   "metadata": {},
   "outputs": [
    {
     "name": "stderr",
     "output_type": "stream",
     "text": [
      "Saving the dataset (0/1 shards):   0%|          | 0/17 [00:00<?, ? examples/s]"
     ]
    },
    {
     "name": "stderr",
     "output_type": "stream",
     "text": [
      "Saving the dataset (1/1 shards): 100%|██████████| 17/17 [00:00<00:00, 55.25 examples/s]\n"
     ]
    }
   ],
   "source": [
    "dataset.save_to_disk('multivariant_v1')"
   ]
  },
  {
   "cell_type": "code",
   "execution_count": null,
   "metadata": {},
   "outputs": [
    {
     "name": "stdout",
     "output_type": "stream",
     "text": [
      "Dataset({\n",
      "    features: ['video_url', 'video_segment_start_sec', 'video_segment_end_sec', 'srt_transcription', 'audio'],\n",
      "    num_rows: 17\n",
      "})\n"
     ]
    }
   ],
   "source": [
    "from datasets import load_from_disk\n",
    "\n",
    "dataset = load_from_disk('multivariant_v1')\n",
    "print(dataset)"
   ]
  },
  {
   "cell_type": "code",
   "execution_count": null,
   "metadata": {},
   "outputs": [],
   "source": []
  }
 ],
 "metadata": {
  "kernelspec": {
   "display_name": "venv",
   "language": "python",
   "name": "python3"
  },
  "language_info": {
   "codemirror_mode": {
    "name": "ipython",
    "version": 3
   },
   "file_extension": ".py",
   "mimetype": "text/x-python",
   "name": "python",
   "nbconvert_exporter": "python",
   "pygments_lexer": "ipython3",
   "version": "3.12.9"
  }
 },
 "nbformat": 4,
 "nbformat_minor": 2
}
